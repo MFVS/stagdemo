{
 "cells": [
  {
   "cell_type": "code",
   "execution_count": 31,
   "metadata": {},
   "outputs": [
    {
     "name": "stdout",
     "output_type": "stream",
     "text": [
      "     telefon\n",
      "0  475286711\n",
      "\n",
      "0    475286711\n",
      "Name: telefon, dtype: int64\n",
      "\n",
      "0    475286711\n",
      "Name: telefon, dtype: int64\n"
     ]
    }
   ],
   "source": [
    "import requests\n",
    "import pandas as pd\n",
    "from io import StringIO\n",
    "\n",
    "url = \"https://ws.ujep.cz/ws/services/rest2/ucitel/getUcitelInfo\"\n",
    "\n",
    "ticket = \"d92d5b993f647d94b17e5a047b18c12383ee8480cc51cf64c7b6e31c8a8a520c\"\n",
    "\n",
    "params = {\n",
    "    \"katedra\": \"KI\",\n",
    "    \"outputFormat\": \"CSV\",\n",
    "    \"outputFormatEncoding\": \"utf-8\",\n",
    "    \"ucitIdno\":\"2220\"\n",
    "}\n",
    "\n",
    "data = requests.get(url, params=params, cookies={\"WSCOOKIE\": ticket})\n",
    "\n",
    "df = pd.read_csv(StringIO(data.text), sep=\";\")\n",
    "print(df[[\"telefon\"]])\n",
    "print(\"\")\n",
    "print(df[\"telefon\"])\n",
    "print(\"\")\n",
    "print(df.telefon)"
   ]
  },
  {
   "cell_type": "code",
   "execution_count": 6,
   "metadata": {},
   "outputs": [
    {
     "name": "stdout",
     "output_type": "stream",
     "text": [
      "Requirement already satisfied: requests in /home/nexovec/src/tabule-api/.conda/lib/python3.9/site-packages (2.31.0)\n",
      "Requirement already satisfied: pandas in /home/nexovec/src/tabule-api/.conda/lib/python3.9/site-packages (1.5.1)\n",
      "Requirement already satisfied: charset-normalizer<4,>=2 in /home/nexovec/src/tabule-api/.conda/lib/python3.9/site-packages (from requests) (3.3.2)\n",
      "Requirement already satisfied: idna<4,>=2.5 in /home/nexovec/src/tabule-api/.conda/lib/python3.9/site-packages (from requests) (3.6)\n",
      "Requirement already satisfied: urllib3<3,>=1.21.1 in /home/nexovec/src/tabule-api/.conda/lib/python3.9/site-packages (from requests) (2.1.0)\n",
      "Requirement already satisfied: certifi>=2017.4.17 in /home/nexovec/src/tabule-api/.conda/lib/python3.9/site-packages (from requests) (2023.11.17)\n",
      "Requirement already satisfied: python-dateutil>=2.8.1 in /home/nexovec/src/tabule-api/.conda/lib/python3.9/site-packages (from pandas) (2.8.2)\n",
      "Requirement already satisfied: pytz>=2020.1 in /home/nexovec/src/tabule-api/.conda/lib/python3.9/site-packages (from pandas) (2023.3.post1)\n",
      "Requirement already satisfied: numpy>=1.20.3 in /home/nexovec/src/tabule-api/.conda/lib/python3.9/site-packages (from pandas) (1.26.3)\n",
      "Requirement already satisfied: six>=1.5 in /home/nexovec/src/tabule-api/.conda/lib/python3.9/site-packages (from python-dateutil>=2.8.1->pandas) (1.16.0)\n",
      "Note: you may need to restart the kernel to use updated packages.\n"
     ]
    }
   ],
   "source": [
    "%pip install requests pandas"
   ]
  },
  {
   "cell_type": "code",
   "execution_count": 4,
   "metadata": {},
   "outputs": [
    {
     "data": {
      "text/plain": [
       "'Unauthorized - K volání této služby je potřeba se přihlásit'"
      ]
     },
     "execution_count": 4,
     "metadata": {},
     "output_type": "execute_result"
    }
   ],
   "source": [
    "import requests\n",
    "import pandas as pd\n",
    "from io import StringIO\n",
    "\n",
    "url = \"https://ws.ujep.cz/ws/services/rest2/predmety/getPredmetyByFakulta\"\n",
    "\n",
    "ticket = \"d73be2a2ad020108858465a346b7d7faa20e180cb455bf3356b22bb5513033a8\"\n",
    "\n",
    "params = {\n",
    "    \"fakulta\": \"PRF\",\n",
    "    \"katedra\": \"KI\",\n",
    "    \"outputFormat\": \"CSV\",\n",
    "    \"outputFormatEncoding\": \"utf-8\"\n",
    "}\n",
    "\n",
    "data = requests.get(url, params=params, )# cookies={\"WSCOOKIE\": ticket}\n",
    "\n",
    "data.text\n",
    "# df = pd.read_csv(StringIO(data.text), sep=\";\")\n",
    "\n",
    "# df.head()"
   ]
  },
  {
   "cell_type": "markdown",
   "metadata": {},
   "source": []
  },
  {
   "cell_type": "code",
   "execution_count": null,
   "metadata": {},
   "outputs": [],
   "source": [
    "import requests"
   ]
  },
  {
   "cell_type": "code",
   "execution_count": null,
   "metadata": {},
   "outputs": [],
   "source": []
  }
 ],
 "metadata": {
  "kernelspec": {
   "display_name": "Python 3",
   "language": "python",
   "name": "python3"
  },
  "language_info": {
   "codemirror_mode": {
    "name": "ipython",
    "version": 3
   },
   "file_extension": ".py",
   "mimetype": "text/x-python",
   "name": "python",
   "nbconvert_exporter": "python",
   "pygments_lexer": "ipython3",
   "version": "3.9.18"
  }
 },
 "nbformat": 4,
 "nbformat_minor": 2
}
